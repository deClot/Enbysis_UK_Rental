{
  "cells": [
    {
      "cell_type": "code",
      "metadata": {
        "tags": [],
        "cell_id": "00001-9c7d752a-f41c-4d8b-91e7-3f22c2392731",
        "deepnote_to_be_reexecuted": false,
        "source_hash": "2e644575",
        "execution_millis": 2588,
        "execution_start": 1617972423280,
        "deepnote_cell_type": "code"
      },
      "source": "import gc\nimport warnings\nwarnings.filterwarnings(\"ignore\")\nimport IPython\n\nimport pandas as pd\nimport numpy as np\nimport seaborn as sns\nimport matplotlib.pyplot as plt\nplt.style.use('fivethirtyeight')\n\nimport neptune.new as neptune\n\nfrom catboost import CatBoostRegressor, Pool, cv\nimport lightgbm as lgb\nfrom sklearn.model_selection import TimeSeriesSplit\nfrom sklearn.metrics import confusion_matrix, f1_score, mean_absolute_percentage_error",
      "outputs": [],
      "execution_count": null
    },
    {
      "cell_type": "code",
      "metadata": {
        "tags": [],
        "cell_id": "00002-9a8f8f43-6b69-4e22-8ffb-ae65e755db5a",
        "deepnote_to_be_reexecuted": false,
        "source_hash": "9a163035",
        "execution_millis": 3,
        "execution_start": 1617972425884,
        "deepnote_cell_type": "code"
      },
      "source": "def display(*dfs):\n    for df in dfs:\n        IPython.display.display(df)\n\ndef reduce_mem_usage(df, verbose=True):\n    numerics = ['int16', 'int32', 'int64', 'float16', 'float32', 'float64']\n    start_mem = df.memory_usage().sum() / 1024**2    \n    for col in df.columns:\n        col_type = df[col].dtypes\n        if col_type in numerics:\n            c_min = df[col].min()\n            c_max = df[col].max()\n            if str(col_type)[:3] == 'int':\n                if c_min > np.iinfo(np.int8).min and c_max < np.iinfo(np.int8).max:\n                    df[col] = df[col].astype(np.int8)\n                elif c_min > np.iinfo(np.int16).min and c_max < np.iinfo(np.int16).max:\n                    df[col] = df[col].astype(np.int16)\n                elif c_min > np.iinfo(np.int32).min and c_max < np.iinfo(np.int32).max:\n                    df[col] = df[col].astype(np.int32)\n                elif c_min > np.iinfo(np.int64).min and c_max < np.iinfo(np.int64).max:\n                    df[col] = df[col].astype(np.int64)  \n            else:\n                if c_min > np.finfo(np.float16).min and c_max < np.finfo(np.float16).max:\n                    df[col] = df[col].astype(np.float16)\n                elif c_min > np.finfo(np.float32).min and c_max < np.finfo(np.float32).max:\n                    df[col] = df[col].astype(np.float32)\n                else:\n                    df[col] = df[col].astype(np.float64)    \n    end_mem = df.memory_usage().sum() / 1024**2\n    if verbose: print('Mem. usage decreased to {:5.2f} Mb ({:.1f}% reduction)'.format(end_mem, 100 * (start_mem - end_mem) / start_mem))\n    return df\n\ndef preprocess_datetime(df, time_columns):\n    for t in time_columns:\n        df[t+'_month'] = df[t].dt.month\n        df[t+'_is_month_start'] = df[t].dt.is_month_start.astype('int')\n        df[t+'_is_month_end'] = df[t].dt.is_month_end.astype('int')\n        df[t+'_day'] = df[t].dt.day\n        df[t+'_hour'] = df[t].dt.hour\n        df[t+'_dayofweek'] = df[t].dt.dayofweek\n        df[t+'_is_weekend'] = (df[t+'_dayofweek'] >= 5).astype('int')\n        df[t+'_quarter'] = df[t].dt.quarter\n\ndef replace_na_on_missing(x): return np.where(x.isna(), 'missing', x)\n\nEPSILON = 1e-38\n\ndef _error(actual: np.ndarray, predicted: np.ndarray):\n    \"\"\" Simple error \"\"\"\n    return actual - predicted\n\n\ndef _percentage_error(actual: np.ndarray, predicted: np.ndarray):\n    \"\"\"\n    Percentage error\n    Note: result is NOT multiplied by 100\n    \"\"\"\n    return _error(actual, predicted) / (actual + EPSILON)\n\ndef mdape(actual: np.ndarray, predicted: np.ndarray):\n    \"\"\"\n    Median Absolute Percentage Error\n    Note: result is NOT multiplied by 100\n    \"\"\"\n    return np.median(np.abs(_percentage_error(actual, predicted)))\n\n\nclass UserDefinedMetric_mdape(object):\n    def is_max_optimal(self):\n        # Returns whether great values of metric are better\n        return False\n\n    def evaluate(self, approxes, target, weight):\n        # approxes is a list of indexed containers\n        # (containers with only __len__ and __getitem__ defined),\n        # one container per approx dimension.\n        # Each container contains floats.\n        # weight is a one dimensional indexed container.\n        # target is a one dimensional indexed container.\n        \n        # weight parameter can be None.\n        # Returns pair (error, weights sum)\n        error = mdape(approxes[0], target)\n        return error, target.shape[0]\n\n    \n    def get_final_error(self, error, weight):\n        # Returns final value of metric based on error and weight\n        return error#/(weight + EPSILON)",
      "outputs": [],
      "execution_count": null
    },
    {
      "cell_type": "code",
      "metadata": {
        "tags": [],
        "cell_id": "00003-cca5b875-f607-4fa5-96c2-2b9c0c07bb43",
        "deepnote_to_be_reexecuted": false,
        "source_hash": "2e13f10f",
        "execution_millis": 3,
        "execution_start": 1617972426069,
        "deepnote_cell_type": "code"
      },
      "source": "def get_submittion(preds, df_test):\n    submittion = df_test[['transaction_id']]\n    submittion['price'] = preds\n    submittion.to_csv('submittion.csv', index=False)\n\n\ndef get_data():\n    df_2017 = pd.read_csv('data/2017.csv')\n    df_2018 = pd.read_csv('data/2018.csv')\n    df_test = pd.read_csv('data/2019.csv')\n    print(df_2017.shape, df_2018.shape, df_test.shape)\n\n    df_ini = pd.concat([df_2017, df_2018])\n    assert df_2017.shape[0] + df_2018.shape[0] == df_ini.shape[0]\n\n    df_ini = reduce_mem_usage(df_ini)\n    df_test = reduce_mem_usage(df_test)\n    return  df_ini, df_test, #df\n\n\nfeatures_str = ['epc_windows_description',\n                'epc_walls_description',\n                'epc_roof_description',\n                ]\nfeatures_address = ['street', 'city', \n                'building_number', 'flat',\n                'building_name',\n                'postcode_sector',\n                'postcode']\n\ndef preprocess_data_main(df):\n    df['created'] = pd.to_datetime(df.created)\n    preprocess_datetime(df, ['created'])\n    features_objects = df.select_dtypes('object').columns\n    features_cat = [f for f in features_objects \\\n                    if f not in features_str + features_address + ['transaction_id']]\n    df[features_cat] = df[features_cat].astype('category')\n    df[features_str] = df[features_str].astype('string')\n\n    to_drop = ['created_month', 'created_quarter', 'created_hour']\n    df.drop(to_drop, axis=1, inplace=True)\n    features_num = df.select_dtypes(include=['float16', 'float32', 'int32', 'int64']).columns\n    assert len(features_cat) + len(features_str) + len(features_address)\\\n        + len(features_num) ==  df.shape[1] - 2 # transaction_id, created\n    return features_cat, features_num\n",
      "outputs": [],
      "execution_count": null
    },
    {
      "cell_type": "code",
      "metadata": {
        "tags": [],
        "cell_id": "00004-ef392312-dde7-46a4-978f-2e8866f09e15",
        "deepnote_to_be_reexecuted": false,
        "source_hash": "470d3793",
        "execution_millis": 16610,
        "execution_start": 1617972427225,
        "deepnote_cell_type": "code"
      },
      "source": "df_ini, df_test = get_data()\nnp.random.seed(2021)\nidx = np.random.choice(np.arange(0, df_ini.shape[0]),\n                                size=100_000, replace=False)\ndf = df_ini.iloc[idx]\nfeatures_cat, features_num = preprocess_data_main(df)\n_ = preprocess_data_main(df_test)\ndf_test['price'] = np.nan",
      "outputs": [
        {
          "name": "stdout",
          "text": "(992212, 43) (986565, 43) (28323, 42)\nMem. usage decreased to 471.78 Mb (29.0% reduction)\nMem. usage decreased to  6.43 Mb (29.2% reduction)\n",
          "output_type": "stream"
        }
      ],
      "execution_count": null
    },
    {
      "cell_type": "code",
      "metadata": {
        "tags": [],
        "cell_id": "00004-4fe6a1da-e7dc-4952-b433-38a986fabf43",
        "deepnote_to_be_reexecuted": false,
        "source_hash": "1db0c7cc",
        "execution_millis": 201,
        "output_cleared": false,
        "execution_start": 1617972443842,
        "deepnote_cell_type": "code"
      },
      "source": "df[features_cat] = df[features_cat].apply(replace_na_on_missing)\ndf_test[features_cat] = df_test[features_cat].apply(replace_na_on_missing)\n\ncv_folds = TimeSeriesSplit(n_splits=5)\n\ncv_idx = list(cv_folds.split(df, df.price))[-1]\n# df.city = df.city.astype('category')\ntrain = df.iloc[cv_idx[0]]\nval = df.iloc[cv_idx[1]]\n",
      "outputs": [],
      "execution_count": null
    },
    {
      "cell_type": "code",
      "metadata": {
        "tags": [],
        "cell_id": "00005-26dc7c91-5f64-4858-9772-eb48afde94d3",
        "deepnote_to_be_reexecuted": false,
        "source_hash": "cde2780a",
        "execution_millis": 1,
        "execution_start": 1617972444047,
        "deepnote_cell_type": "code"
      },
      "source": "# _ = preprocess_data_main(df_ini)\n# df_ini[features_cat] = df_ini[features_cat].apply(lambda x: np.where(x.isna(), 'missing', x))",
      "outputs": [],
      "execution_count": null
    },
    {
      "cell_type": "markdown",
      "source": "### Preprocee text features to categorical",
      "metadata": {
        "tags": [],
        "cell_id": "00007-dc85b82b-85ae-4a76-aa3a-3ff062b7d370",
        "deepnote_cell_type": "markdown"
      }
    },
    {
      "cell_type": "code",
      "metadata": {
        "tags": [],
        "cell_id": "00006-afcc58ab-8d1b-466a-ae3b-a1b1edbc0402",
        "deepnote_to_be_reexecuted": false,
        "source_hash": "ed512f36",
        "execution_millis": 1,
        "execution_start": 1617860979308,
        "deepnote_cell_type": "code"
      },
      "source": "# def find_by_template_and_replace(temp, df, f, name=''):\n#     print(f'''rel. % of samples with cyfartalog: \\\n# {df[f].dropna().str.extract(tmp).notna().sum()/df.shape[0]*100}''')\n#     df[name] = df[f].str.extract(tmp).apply(lambda x: np.where(x.isna(), np.nan,x) )\n#     display(df[name].dropna().unique())\n#     df[name] = df[name].astype('float')\n#     df[f] = df[f].str.replace(tmp, '')",
      "execution_count": null,
      "outputs": []
    },
    {
      "cell_type": "code",
      "metadata": {
        "tags": [],
        "cell_id": "00006-00ef4682-7baf-4891-9f99-71cb78386656",
        "deepnote_to_be_reexecuted": false,
        "source_hash": "ad7c8aa6",
        "execution_millis": 2,
        "execution_start": 1617860980438,
        "deepnote_cell_type": "code"
      },
      "source": "# f = 'epc_walls_description'\n\n# tmp = '\\|Trawsyriannedd thermol cyfartalog =*\\s*(\\d.*\\d*) W/m.*K'\n# find_by_template_and_replace(tmp, df, f, 'wall_cyfartalog')\n# tmp = 'transmittance =*\\s*(\\d.*\\d*) W/m.*K'\n# find_by_template_and_replace(tmp, df, f, 'wall_transmittance')",
      "execution_count": null,
      "outputs": []
    },
    {
      "cell_type": "code",
      "metadata": {
        "tags": [],
        "cell_id": "00007-d8426e6b-77c2-442d-9850-8c6d16daf696",
        "deepnote_to_be_reexecuted": false,
        "source_hash": "d2521169",
        "execution_millis": 1,
        "execution_start": 1617860980952,
        "deepnote_cell_type": "code"
      },
      "source": "# temp = df[f].str.replace('+', ',').str.replace('.', ',').str.replace(', ',',')\\\n#             .str.split(',', expand=True)\n# print(f'% of nan is each col\\n{temp.notna().sum(axis=0)/temp.shape[0]*100}')\n# temp = temp.iloc[:,:7].apply(replace_na_on_missing).astype('category')\n# temp.columns = f + temp.columns.astype('string')\n# df = pd.concat((df, temp), axis=1)\n# features_cat.extend(temp.columns)\n# gc.collect();",
      "execution_count": null,
      "outputs": []
    },
    {
      "cell_type": "code",
      "metadata": {
        "tags": [],
        "cell_id": "00009-04aa323c-599a-4ecf-b7ad-f88b6a0ca884",
        "deepnote_to_be_reexecuted": false,
        "source_hash": "6974b26c",
        "execution_millis": 6,
        "execution_start": 1617860981981,
        "deepnote_cell_type": "code"
      },
      "source": "# f = 'epc_roof_description'\n# tmp = '(\\d+)\\+*\\s*mm loft '\n# find_by_template_and_replace(temp, df, f, 'roof_loft')\n# tmp = '\\|Trawsyriannedd thermol cyfartalog \\d.\\d\\d'\n# df[f] = df[f].str.replace(tmp, '')\n# tmp = 'transmittance =*\\s*(\\d\\.*\\d*) W/m.*K'\n# find_by_template_and_replace(temp, df, f, 'roof_transmittance')\n",
      "execution_count": null,
      "outputs": []
    },
    {
      "cell_type": "code",
      "metadata": {
        "tags": [],
        "cell_id": "00009-98b7d736-3520-4e91-888f-989eb68c0715",
        "deepnote_to_be_reexecuted": false,
        "source_hash": "87808052",
        "execution_millis": 1,
        "output_cleared": false,
        "execution_start": 1617860982644,
        "deepnote_cell_type": "code"
      },
      "source": "# temp = df[f].str.replace('+', ',').str.replace('.', ',').str.replace(', ',',')\\\n#             .str.split(',', expand=True)\n# print(f'% of nan is each col\\n{temp.notna().sum(axis=0)/temp.shape[0]*100}')\n# temp = temp.iloc[:,:5].apply(replace_na_on_missing).astype('category')\n# temp.columns = f + temp.columns.astype('string')\n# df = pd.concat((df, temp), axis=1)\n# features_cat.extend(temp.columns)\n# gc.collect();",
      "execution_count": null,
      "outputs": []
    },
    {
      "cell_type": "code",
      "metadata": {
        "tags": [],
        "cell_id": "00011-90e4e9c8-7f3f-4547-882f-bed1c28cb55e",
        "deepnote_to_be_reexecuted": false,
        "source_hash": "571a7559",
        "execution_millis": 4,
        "execution_start": 1617860983267,
        "deepnote_cell_type": "code"
      },
      "source": "# f = 'epc_windows_description'\n# df[f] = df[[f]].apply(replace_na_on_missing).values\n# features_cat.append(f)\n# # features_str.remove(f)",
      "execution_count": null,
      "outputs": []
    },
    {
      "cell_type": "markdown",
      "source": "## Catboost model",
      "metadata": {
        "tags": [],
        "cell_id": "00007-6d4d25fa-5eeb-457a-bfe0-f9971f279dd8",
        "deepnote_cell_type": "markdown"
      }
    },
    {
      "cell_type": "code",
      "metadata": {
        "tags": [],
        "cell_id": "00006-fa5e0e56-baea-4acb-afd6-84a51426bc5c",
        "deepnote_to_be_reexecuted": false,
        "source_hash": "71b08347",
        "execution_millis": 4,
        "execution_start": 1617972444056,
        "deepnote_cell_type": "code"
      },
      "source": "def model_Catboost(df, df_test, cv_folds, num_iter, params_neptune, paramds_add,\n                  flag_val=False, flag_test=False, flag_neptune=False, name=''):\n\n   to_drop = ['transaction_id', 'created', 'price'] + features_str + features_address\n#    print(df.iloc[0][features_cat])\n   data = Pool(df.drop(to_drop, axis=1), df.price, cat_features=features_cat)\n#    test = Pool(df_test.drop(to_drop, axis=1), cat_features=features_cat)\n\n   if flag_neptune:\n        run = neptune.init(project='declot/Enbysis-UK-Rental')\n        run['parameters'] = params_neptune\n        run[\"sys/name\"] = name\n        run[\"sys/tags\"].add(['Catboost'])\n\n   cv_data = cv(data, dict(**params_neptune, **params_add), iterations=num_iter, folds=cv_folds,\n      shuffle=False, as_pandas=True)\n   if flag_neptune:\n        run['cv/mdape'] = cv_data[f'test-{UserDefinedMetric_mdape.__name__}-mean'].min()\n        run['cv/mdape_iter'] = cv_data.iterations[cv_data[f'test-{UserDefinedMetric_mdape.__name__}-mean'].idxmin()]\n\n   if flag_val:\n        train = Pool(df.iloc[cv_idx[0]].drop(to_drop, axis=1), df.iloc[cv_idx[0]].price, \n               cat_features=features_cat)\n        val = Pool(df.iloc[cv_idx[1]].drop(to_drop, axis=1), df.iloc[cv_idx[1]].price, \n            cat_features=features_cat)\n\n        model = CatBoostRegressor(**params_neptune, **params_add, verbose=0)\n        model.fit(train, eval_set=val)\n        preds = model.predict(val)\n        metrics = mdape(val.get_label(), preds), \\\n                mean_absolute_percentage_error(val.get_label(), preds)\n        print(f'''\\nval mdape: {metrics[0]}\\\n                val mape: {metrics[1]}''')\n        if flag_neptune: \n            run['val/mdape'], run['val/mape'] = metrics\n            run.stop()\n\n   if flag_test:\n        model = CatBoostRegressor(**params_neptune, **params_add, verbose=False)\n        model.fit(data, verbose=False)\n        preds = model.predict(test)\n        # pd.Series(preds).plot(kind='hist', xlim=(0, 2.5e6), density=1, bins=200, alpha=0.5)\n        # train.price.plot(kind='hist', xlim=(0, 2.5e6), density=1, bins=5000, alpha=0.5)\n        get_submittion(preds, df_test)\n\n   if flag_val: return model\n\n   ",
      "outputs": [],
      "execution_count": null
    },
    {
      "cell_type": "code",
      "metadata": {
        "tags": [],
        "cell_id": "00015-c3d11a90-db69-4149-980c-26dd0664d094",
        "deepnote_to_be_reexecuted": false,
        "source_hash": "d05e8ee1",
        "execution_millis": 266,
        "execution_start": 1617972445233,
        "deepnote_cell_type": "code"
      },
      "source": "df[features_address].nunique().sort_values()",
      "outputs": [
        {
          "output_type": "execute_result",
          "execution_count": 8,
          "data": {
            "text/plain": "city                 348\nflat                 708\nbuilding_number     1943\npostcode_sector     7934\nbuilding_name      10746\nstreet             53218\npostcode           89696\ndtype: int64"
          },
          "metadata": {}
        }
      ],
      "execution_count": null
    },
    {
      "cell_type": "code",
      "metadata": {
        "tags": [],
        "cell_id": "00016-ef9e2ddd-befa-4850-b87c-1e0b1f5a97cb",
        "deepnote_to_be_reexecuted": false,
        "source_hash": "b5347813",
        "execution_millis": 0,
        "execution_start": 1617972447152,
        "deepnote_cell_type": "code"
      },
      "source": "f = 'city'\nfeatures_address.remove(f)\nfeatures_cat.append(f)",
      "outputs": [],
      "execution_count": null
    },
    {
      "cell_type": "code",
      "metadata": {
        "tags": [],
        "cell_id": "00004-361b9a2e-346c-43b9-81ca-6d79ae3751f3",
        "deepnote_to_be_reexecuted": false,
        "source_hash": "aeff068d",
        "execution_millis": 27881,
        "execution_start": 1617972457508,
        "deepnote_cell_type": "code"
      },
      "source": "# name = 'add text feat as cat'\nname = ''\nnum_iter = 100\nparams_neptune = dict(loss_function = 'MAE',\n                     iterations = num_iter,\n              learning_rate = 0.5,\n              depth = 6,\n              l2_leaf_reg = 1,\n              bagging_temperature = 1,\n              max_leaves = 64,\n              min_data_in_leaf = 32,\n              one_hot_max_size=2,\n              has_time = True,\n              rsm = 0.7, # num features\n              nan_mode = 'Min',\n              fold_permutation_block = 1,\n              leaf_estimation_method = 'Exact', #'Gradient', #'Newton', \n               boosting_type = 'Plain', #'Ordered'\n               langevin = True,\n               diffusion_temperature = 10_000,\n             )\nmetric = UserDefinedMetric_mdape()#'MedianAbsoluteError',#'MAPE', #'MedianAbsoluteError', \nparams_add = dict(eval_metric =  metric,\n                  cat_features = features_cat,\n                  random_seed = 2021,\n                  metric_period = 10,\n                 )\n\nmodel = model_Catboost(df, df_test, cv_folds, num_iter, params_neptune, params_add, \n               flag_val=True, flag_test=False, flag_neptune=False, name=name)\ngc.collect()",
      "outputs": [
        {
          "name": "stdout",
          "text": "0:\tlearn: 1.0000000\ttest: 1.0062678\tbest: 1.0062678 (0)\n10:\tlearn: 0.2220007\ttest: 0.2227197\tbest: 0.2227197 (10)\n20:\tlearn: 0.2089035\ttest: 0.2110320\tbest: 0.2110320 (20)\n30:\tlearn: 0.1995634\ttest: 0.2043951\tbest: 0.2043951 (30)\n40:\tlearn: 0.1932845\ttest: 0.2011042\tbest: 0.2011042 (40)\n50:\tlearn: 0.1883800\ttest: 0.1990100\tbest: 0.1990100 (50)\n60:\tlearn: 0.1846925\ttest: 0.1970178\tbest: 0.1970178 (60)\n70:\tlearn: 0.1813283\ttest: 0.1956427\tbest: 0.1956427 (70)\n80:\tlearn: 0.1787007\ttest: 0.1950055\tbest: 0.1950055 (80)\n90:\tlearn: 0.1762637\ttest: 0.1940181\tbest: 0.1940181 (90)\ttotal: 18s\tremaining: 1.78s\n99:\tlearn: 0.1738810\ttest: 0.1938095\tbest: 0.1938095 (99)\ttotal: 19.9s\tremaining: 0us\n\nval mdape: 0.18372923200201224                val mape: 0.8754544978134178\n",
          "output_type": "stream"
        },
        {
          "output_type": "execute_result",
          "execution_count": 10,
          "data": {
            "text/plain": "24"
          },
          "metadata": {}
        }
      ],
      "execution_count": null
    },
    {
      "cell_type": "code",
      "source": "# df.iloc[cv_idx[1]].index.unique()",
      "metadata": {
        "tags": [],
        "cell_id": "00018-63d3fd85-4f40-4481-ba5a-9b5ef70f01a1",
        "deepnote_to_be_reexecuted": false,
        "source_hash": "45a23c29",
        "execution_millis": 26,
        "execution_start": 1617972646550,
        "deepnote_cell_type": "code"
      },
      "outputs": [
        {
          "output_type": "execute_result",
          "execution_count": 17,
          "data": {
            "text/plain": "Int64Index([656163, 796926, 496832, 151208, 753977, 948796, 691887, 456387,\n            294875, 612365,\n            ...\n            535476, 139129, 298765, 735774, 514101,  16748, 468556,  22313,\n            649112, 543092],\n           dtype='int64', length=16582)"
          },
          "metadata": {}
        }
      ],
      "execution_count": null
    },
    {
      "cell_type": "code",
      "source": "to_drop = ['transaction_id', 'created', 'price'] + features_str + features_address\n\npred = model.predict(Pool(df.iloc[cv_idx[1]].drop(to_drop, axis=1), df.iloc[cv_idx[1]].price, \n            cat_features=features_cat))\ndata = pd.concat([df.iloc[cv_idx[1]].price.reset_index(drop=True), pd.Series(pred)], axis=1)\ndata.columns = ['true', 'pred']\ndata.plot.scatter(x='true', y='pred')",
      "metadata": {
        "tags": [],
        "cell_id": "00018-ee10e738-78a3-49c6-bdfe-c8a5f373f399",
        "deepnote_to_be_reexecuted": false,
        "source_hash": "a623b52e",
        "execution_millis": 347,
        "execution_start": 1617972674989,
        "deepnote_cell_type": "code"
      },
      "outputs": [
        {
          "output_type": "execute_result",
          "execution_count": 19,
          "data": {
            "text/plain": "<AxesSubplot:xlabel='true', ylabel='pred'>"
          },
          "metadata": {}
        },
        {
          "data": {
            "text/plain": "<Figure size 432x288 with 1 Axes>",
            "image/png": "[encoded data removed]"
          },
          "metadata": {},
          "output_type": "display_data"
        }
      ],
      "execution_count": null
    },
    {
      "cell_type": "code",
      "metadata": {
        "tags": [],
        "cell_id": "00016-2bb1f514-7ff1-4465-81a5-3ca1435bf7e8",
        "deepnote_to_be_reexecuted": false,
        "source_hash": "8bd02c56",
        "execution_millis": 30,
        "execution_start": 1617861496189,
        "deepnote_cell_type": "code"
      },
      "source": "to_drop = ['transaction_id', 'created', 'price'] + features_str + features_address\n\npd.Series(model.get_feature_importance(), df.drop(to_drop, axis=1).columns).sort_values()",
      "execution_count": null,
      "outputs": [
        {
          "output_type": "execute_result",
          "execution_count": 32,
          "data": {
            "text/plain": "created_is_weekend                 0.000000\ncreated_is_month_start             0.000000\nepc_current_energy_rating          0.005809\ncreated_day                        0.009543\ncreated_is_month_end               0.014183\nepc_glazed_area                    0.017857\nfloor_level                        0.024045\nepc_hot_water_cost_current         0.040479\ncreated_dayofweek                  0.045177\nepc_flat_storey_count              0.049547\nepc_potential_energy_rating        0.066789\nepc_number_open_fireplaces         0.082434\nepc_built_form                     0.134623\nepc_property_type                  0.218808\nepc_floor_height                   0.272917\nepc_walls_energy_eff               0.326557\nepc_heating_cost_current           0.344968\nclosestpark                        0.354117\nnumber_of_rooms                    0.410215\ncloseststop                        0.520003\nepc_windows_energy_eff             0.816737\nppd_category                       0.828122\nclosestschool                      0.891709\nepc_roof_energy_eff                0.933806\ndistance_center                    0.974526\nepc_energy_consumption_current     1.207773\nold_new                            1.221596\naddress_id                         1.311960\nepc_lighting_cost_current          1.924074\nduration                           3.981060\nproperty_type                      8.598516\nlatitude                          12.109926\ncrimesin3km_antisocial            13.330558\nlongitude                         13.549558\ncity                              16.346538\ntotal_floor_area                  19.035468\ndtype: float64"
          },
          "metadata": {}
        }
      ]
    },
    {
      "cell_type": "code",
      "metadata": {
        "tags": [],
        "cell_id": "00008-c026ea3e-1e3c-4a2b-9f39-281a7c7aae7b",
        "deepnote_to_be_reexecuted": true,
        "source_hash": "854e648b",
        "execution_millis": 13,
        "deepnote_cell_type": "code"
      },
      "source": "",
      "execution_count": null,
      "outputs": [
        {
          "output_type": "execute_result",
          "execution_count": 43,
          "data": {
            "text/plain": "transaction_id                            object\ncreated                           datetime64[ns]\nprice                                      int32\nnumber_of_rooms                          float16\ntotal_floor_area                         float16\nepc_energy_consumption_current           float32\nepc_lighting_cost_current                float16\nepc_heating_cost_current                 float16\nepc_hot_water_cost_current               float16\nepc_flat_storey_count                    float16\nepc_number_open_fireplaces               float16\nepc_floor_height                         float16\nlatitude                                 float16\nlongitude                                float16\ncloseststop                              float16\ncrimesin3km_antisocial                   float16\nclosestschool                            float16\nclosestpark                              float16\naddress_id                                 int32\ndistance_center                          float16\ncreated_is_month_start                     int64\ncreated_is_month_end                       int64\ncreated_day                                int64\ncreated_dayofweek                          int64\ncreated_is_weekend                         int64\nwall_cyfartalog                           object\nwall_transmittance                        object\nroof_loft                                 object\nroof_transmittance                        object\ndtype: object"
          },
          "metadata": {}
        }
      ]
    },
    {
      "cell_type": "code",
      "metadata": {
        "tags": [],
        "cell_id": "00018-86039d6b-f73c-49e2-9c88-f8d63f8a8100",
        "deepnote_to_be_reexecuted": true,
        "source_hash": "6c8ba5ca",
        "execution_millis": 22,
        "deepnote_cell_type": "code"
      },
      "source": "df['wall_cyfartalog'].apply(replace_na_on_missing)",
      "execution_count": null,
      "outputs": [
        {
          "output_type": "execute_result",
          "execution_count": 47,
          "data": {
            "text/plain": "377397    True\n569014    True\n696207    True\n861218    True\n538756    True\n          ... \n16748     True\n468556    True\n22313     True\n649112    True\n543092    True\nName: wall_cyfartalog, Length: 100000, dtype: bool"
          },
          "metadata": {}
        }
      ]
    },
    {
      "cell_type": "markdown",
      "source": "### LightGbm",
      "metadata": {
        "tags": [],
        "cell_id": "00006-9a39c81d-ff4e-4ab4-8fd3-4750a17f3e27",
        "deepnote_cell_type": "markdown"
      }
    },
    {
      "cell_type": "code",
      "metadata": {
        "tags": [],
        "cell_id": "00007-b8baaa21-be90-46c3-bcb1-51c7c881eb72",
        "deepnote_to_be_reexecuted": true,
        "source_hash": "c7a2a9d4",
        "execution_millis": 3,
        "deepnote_cell_type": "code"
      },
      "source": "# temp = df.copy()\n# temp[features_cat] = temp[features_cat].astype('category').apply(lambda x: x.cat.codes) \n# train = temp.iloc[cv_idx[0]]\n# val = temp.iloc[cv_idx[1]]\n# train = lgb.Dataset(train.drop(to_drop, axis=1), label=train.price, \n#                     categorical_feature=features_cat)\n# val = lgb.Dataset(val.drop(to_drop, axis=1), label=val.price,\n#                   free_raw_data=False,\n#                   categorical_feature=features_cat)\n\n# params_lgb = dict(objective='regression', metric=['mape', 'rmse'],\n#                   learning_rate=0.0005, num_leaves = 30, min_data_in_leaf=20, \n#                   bagging_fraction=1,feature_fraction_bynode=1,\n#                   lambda_l1=1, lambda_l2=10, min_gain_to_split=0. )\n# bst = lgb.train(params_lgb, train, num_boost_round=20, valid_sets=[val],\\\n#                 verbose_eval=10)\n\n# preds = bst.predict(val.get_data())\n# mdape(val.get_label(), preds)\n",
      "execution_count": null,
      "outputs": []
    },
    {
      "cell_type": "code",
      "metadata": {
        "tags": [],
        "cell_id": "00008-40966a41-5f11-4513-b02b-faddd5c44c67",
        "deepnote_to_be_reexecuted": true,
        "source_hash": "9daca796",
        "execution_millis": 2,
        "deepnote_cell_type": "code"
      },
      "source": "# preds, val.get_label()",
      "execution_count": null,
      "outputs": []
    },
    {
      "cell_type": "markdown",
      "source": "<a style='text-decoration:none;line-height:16px;display:flex;color:#5B5B62;padding:10px;justify-content:end;' href='https://deepnote.com?utm_source=created-in-deepnote-cell&projectId=93dfd834-f8d5-41c6-9de5-c4f79b8a1815' target=\"_blank\">\n<img alt='Created in deepnote.com' style='display:inline;max-height:16px;margin:0px;margin-right:7.5px;' src='data:image/svg+xml;base64,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' > </img>\nCreated in <span style='font-weight:600;margin-left:4px;'>Deepnote</span></a>",
      "metadata": {
        "tags": [],
        "created_in_deepnote_cell": true,
        "deepnote_cell_type": "markdown"
      }
    }
  ],
  "nbformat": 4,
  "nbformat_minor": 2,
  "metadata": {
    "orig_nbformat": 2,
    "deepnote_notebook_id": "80593920-6f2c-45e2-911b-e2ed686b2e1e",
    "deepnote": {},
    "deepnote_execution_queue": []
  }
}