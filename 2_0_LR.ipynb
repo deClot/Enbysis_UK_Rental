{
  "cells": [
    {
      "cell_type": "code",
      "metadata": {
        "tags": [],
        "deepnote_to_be_reexecuted": false,
        "source_hash": "ca63b2a6",
        "execution_millis": 3929,
        "cell_id": "00000-2b1bb628-0669-4565-8947-e08cf57227d2",
        "execution_start": 1617973155750,
        "deepnote_cell_type": "code"
      },
      "source": "!pip install torch==1.8.1+cpu torchvision==0.9.1+cpu torchaudio==0.8.1 -f https://download.pytorch.org/whl/torch_stable.html",
      "execution_count": null,
      "outputs": [
        {
          "name": "stdout",
          "text": "Looking in links: https://download.pytorch.org/whl/torch_stable.html\nRequirement already satisfied: torch==1.8.1+cpu in /root/venv/lib/python3.7/site-packages (1.8.1+cpu)\nRequirement already satisfied: torchvision==0.9.1+cpu in /root/venv/lib/python3.7/site-packages (0.9.1+cpu)\nRequirement already satisfied: torchaudio==0.8.1 in /root/venv/lib/python3.7/site-packages (0.8.1)\nRequirement already satisfied: numpy in /shared-libs/python3.7/py/lib/python3.7/site-packages (from torch==1.8.1+cpu) (1.19.5)\nRequirement already satisfied: typing-extensions in /shared-libs/python3.7/py-core/lib/python3.7/site-packages (from torch==1.8.1+cpu) (3.7.4.3)\nRequirement already satisfied: pillow>=4.1.1 in /shared-libs/python3.7/py/lib/python3.7/site-packages (from torchvision==0.9.1+cpu) (8.1.2)\n\u001b[33mWARNING: You are using pip version 20.1.1; however, version 21.0.1 is available.\nYou should consider upgrading via the '/root/venv/bin/python -m pip install --upgrade pip' command.\u001b[0m\n",
          "output_type": "stream"
        }
      ]
    },
    {
      "cell_type": "code",
      "metadata": {
        "tags": [],
        "deepnote_to_be_reexecuted": false,
        "source_hash": "45ddf0e6",
        "execution_millis": 3,
        "cell_id": "00001-2d5c957b-e76e-4a26-8a61-4f92f9b60a8c",
        "execution_start": 1618107643768,
        "deepnote_cell_type": "code"
      },
      "source": "import gc\nimport warnings\nwarnings.filterwarnings(\"ignore\")\nimport IPython\n\nimport pandas as pd\nimport numpy as np\nimport seaborn as sns\nimport matplotlib.pyplot as plt\nplt.style.use('fivethirtyeight')\n\nimport neptune.new as neptune\n\nfrom catboost import CatBoostRegressor, Pool, cv\nimport lightgbm as lgb\nfrom sklearn.model_selection import TimeSeriesSplit\nfrom sklearn.metrics import mean_absolute_percentage_error\nfrom sklearn.preprocessing import LabelEncoder\nfrom sklearn.linear_model import SGDRegressor",
      "outputs": [],
      "execution_count": null
    },
    {
      "cell_type": "code",
      "metadata": {
        "tags": [],
        "deepnote_to_be_reexecuted": false,
        "source_hash": "cba8beba",
        "execution_millis": 4,
        "cell_id": "00002-2fd709b8-d01e-452f-881a-651eef6cf9c4",
        "execution_start": 1618107645178,
        "deepnote_cell_type": "code"
      },
      "source": "def display(*dfs):\n    for df in dfs:\n        IPython.display.display(df)\n\ndef reduce_mem_usage(df, verbose=True):\n    numerics = ['int16', 'int32', 'int64', 'float16', 'float32', 'float64']\n    start_mem = df.memory_usage().sum() / 1024**2    \n    for col in df.columns:\n        col_type = df[col].dtypes\n        if col_type in numerics:\n            c_min = df[col].min()\n            c_max = df[col].max()\n            if str(col_type)[:3] == 'int':\n                if c_min > np.iinfo(np.int8).min and c_max < np.iinfo(np.int8).max:\n                    df[col] = df[col].astype(np.int8)\n                elif c_min > np.iinfo(np.int16).min and c_max < np.iinfo(np.int16).max:\n                    df[col] = df[col].astype(np.int16)\n                elif c_min > np.iinfo(np.int32).min and c_max < np.iinfo(np.int32).max:\n                    df[col] = df[col].astype(np.int32)\n                elif c_min > np.iinfo(np.int64).min and c_max < np.iinfo(np.int64).max:\n                    df[col] = df[col].astype(np.int64)  \n            else:\n                if c_min > np.finfo(np.float16).min and c_max < np.finfo(np.float16).max:\n                    df[col] = df[col].astype(np.float16)\n                elif c_min > np.finfo(np.float32).min and c_max < np.finfo(np.float32).max:\n                    df[col] = df[col].astype(np.float32)\n                else:\n                    df[col] = df[col].astype(np.float64)    \n    end_mem = df.memory_usage().sum() / 1024**2\n    if verbose: print('Mem. usage decreased to {:5.2f} Mb ({:.1f}% reduction)'.format(end_mem, 100 * (start_mem - end_mem) / start_mem))\n    return df\n\ndef preprocess_datetime(df, time_columns):\n    for t in time_columns:\n        df[t+'_month'] = df[t].dt.month\n        df[t+'_is_month_start'] = df[t].dt.is_month_start.astype('int')\n        df[t+'_is_month_end'] = df[t].dt.is_month_end.astype('int')\n        df[t+'_day'] = df[t].dt.day\n        df[t+'_hour'] = df[t].dt.hour\n        df[t+'_dayofweek'] = df[t].dt.dayofweek\n        df[t+'_is_weekend'] = (df[t+'_dayofweek'] >= 5).astype('int')\n        df[t+'_quarter'] = df[t].dt.quarter\n\ndef replace_na_on_missing(x): return np.where(x.isna(), 'missing', x)\n\nEPSILON = 1e-38\n\ndef _error(actual: np.ndarray, predicted: np.ndarray):\n    \"\"\" Simple error \"\"\"\n    return actual - predicted\n\n\ndef _percentage_error(actual: np.ndarray, predicted: np.ndarray):\n    \"\"\"\n    Percentage error\n    Note: result is NOT multiplied by 100\n    \"\"\"\n    return _error(actual, predicted) / (actual + EPSILON)\n\n\ndef mdape(actual: np.ndarray, predicted: np.ndarray):\n    \"\"\"\n    Median Absolute Percentage Error\n    Note: result is NOT multiplied by 100\n    \"\"\"\n    return np.median(np.abs(_percentage_error(actual, predicted)))",
      "outputs": [],
      "execution_count": null
    },
    {
      "cell_type": "code",
      "metadata": {
        "tags": [],
        "deepnote_to_be_reexecuted": false,
        "source_hash": "a80dd0fd",
        "execution_millis": 7,
        "cell_id": "00003-6292d233-3562-4790-b79c-4f00601e44b0",
        "execution_start": 1618107646539,
        "deepnote_cell_type": "code"
      },
      "source": "def get_submittion(preds, df_test):\n    submittion = df_test[['transaction_id']]\n    submittion['price'] = preds\n    submittion.to_csv('submittion.csv', index=False)\n\n\ndef get_data():\n    df_2017 = pd.read_csv('data/2017.csv')\n    df_2018 = pd.read_csv('data/2018.csv')\n    df_test = pd.read_csv('data/2019.csv')\n    print(df_2017.shape, df_2018.shape, df_test.shape)\n\n    df_ini = pd.concat([df_2017, df_2018])\n    assert df_2017.shape[0] + df_2018.shape[0] == df_ini.shape[0]\n\n    df_ini = reduce_mem_usage(df_ini)\n    df_test = reduce_mem_usage(df_test)\n    return  df_ini, df_test, #df\n\n\ndef preprocess_main(df):\n    df['created'] = pd.to_datetime(df.created)\n    preprocess_datetime(df, ['created'])\n    features_objects = df.select_dtypes('object').columns\n    features_cat = [f for f in features_objects \\\n                    if f not in features_str + features_address + ['transaction_id']]\n    df[features_cat] = df[features_cat].astype('category')\n    df[features_str] = df[features_str].astype('string')\n\n    df.drop(TO_DROP, axis=1, inplace=True)\n    current_to_drop = ['created_month', 'created_quarter', 'created_hour']\n    df.drop(current_to_drop, axis=1, inplace=True)\n    \n    features_num = df.select_dtypes(include=['float16', 'float32', 'int32', 'int64']).columns\n    assert len(features_cat) + len(features_str) + len(features_address)\\\n        + len(features_num) ==  df.shape[1] # - 2 # transaction_id, created\n#     features_withna = df.drop(features_str + features_address, axis=1).columns\n    \n    return features_cat, features_num\n\n\ndef replace_na_on_missing(x): return np.where(x.isna(), 'missing', x)\n\ndef categorical_to_numerical_features(df, df_test, features_cat):\n    train_size = df.shape[0]\n    data = pd.concat([df, df_test], axis=0)[features_cat]\n    data[features_cat] = data[features_cat].apply(replace_na_on_missing).astype('category')\n    # cat2num = data[features_cat].cat.categories\n    data[features_cat] = data[features_cat].apply(lambda x: x.cat.codes.astype('category'))\n\n    return data.iloc[:train_size], data.iloc[train_size:]\n    # return data[features_cat].iloc[:train_size], data[fearutes_cat]\n    ",
      "outputs": [],
      "execution_count": null
    },
    {
      "cell_type": "code",
      "metadata": {
        "tags": [],
        "deepnote_to_be_reexecuted": false,
        "source_hash": "160e9d76",
        "execution_millis": 19673,
        "cell_id": "00004-485ceaaa-bcf2-43da-b5f2-e8449d8ebf31",
        "execution_start": 1618107668948,
        "deepnote_cell_type": "code"
      },
      "source": "df_ini, df_test = get_data()\nnp.random.seed(2021)\nidx = np.random.choice(np.arange(0, df_ini.shape[0]),\n                                size=100_000, replace=False)\ndf = df_ini.iloc[idx]\n\n# train, val, test, features_num = preprocess_total(df, df_test)",
      "outputs": [
        {
          "name": "stdout",
          "text": "(992212, 43) (986565, 43) (28323, 42)\nMem. usage decreased to 471.78 Mb (29.0% reduction)\nMem. usage decreased to  6.43 Mb (29.2% reduction)\n",
          "output_type": "stream"
        }
      ],
      "execution_count": null
    },
    {
      "cell_type": "code",
      "metadata": {
        "tags": [],
        "deepnote_to_be_reexecuted": false,
        "source_hash": "f08b7b8f",
        "execution_millis": 5,
        "cell_id": "00009-ceb100ea-f31e-4432-911c-cb30aad6ed38",
        "execution_start": 1618107689957,
        "deepnote_cell_type": "code"
      },
      "source": "def preprocess_total(df, df_test):\n    df, df_test = df.copy(), df_test.copy()\n    features_cat, features_num = preprocess_main(df)\n    _ = preprocess_main(df_test)\n    df_test['price'] = np.nan\n\n    # nans\n    df[features_cat], df_test[features_cat] = categorical_to_numerical_features(df, df_test,\n                                                                           features_cat)\n    # train_size = df.shape[0]\n    # data = pd.concat([df, df_test], axis=0)[features_cat]\n    # data[features_cat] = data[features_cat].apply(replace_na_on_missing).astype('category')\n    # ohe = pd.get_dummies(data[features_cat], drop_first=True)\n    # print(ohe.shape)\n    # df = pd.concat([df, ohe.iloc[:train_size]], axis=1)\n    # df_test = pd.concat([df_test, ohe.iloc[train_size:]], axis=1)\n    # df.drop(features_cat,axis=1, inplace=True)\n    # df_test.drop(features_cat,axis=1, inplace=True)\n\n    df[features_num] = df[features_num].fillna(0)\n    # check nans exist only in unused features\n    if df.loc[:, df.isna().sum() != 0]\\\n                .select_dtypes(exclude=['object', 'string']).shape[1] != 0:\n                print('There are nans in data')\n\n\n    cv_folds = TimeSeriesSplit(n_splits=5)\n    cv_idx = list(cv_folds.split(df, df.price))[-1]\n    train = df.iloc[cv_idx[0]]\n    val = df.iloc[cv_idx[1]]\n    \n    return train, val, df_test, features_cat\n\n",
      "outputs": [],
      "execution_count": null
    },
    {
      "cell_type": "code",
      "metadata": {
        "tags": [],
        "deepnote_to_be_reexecuted": false,
        "source_hash": "a7e8d101",
        "execution_millis": 2,
        "cell_id": "00010-0c78c1d1-2caf-4b91-b82f-d21dadabe252",
        "execution_start": 1618107691098,
        "deepnote_cell_type": "code"
      },
      "source": "features_str = ['epc_windows_description',\n                'epc_walls_description',\n                'epc_roof_description',\n                ]\nfeatures_address = ['street', \n                    'city', \n                'building_number', 'flat',\n                'building_name',\n                'postcode_sector',\n                'postcode']\nTO_DROP = ['transaction_id', 'created', 'address_id']",
      "outputs": [],
      "execution_count": null
    },
    {
      "cell_type": "code",
      "metadata": {
        "tags": [],
        "deepnote_to_be_reexecuted": false,
        "source_hash": "b9097412",
        "execution_millis": 1849,
        "cell_id": "00011-eadeca6d-e574-48d3-95bb-ca381527b086",
        "execution_start": 1618107691969,
        "deepnote_cell_type": "code"
      },
      "source": "%%time\ntrain, val, test, features_cat = preprocess_total(df, df_test)\n# y = train.price\n# train.price = (train.price - y.mean())/y.std()\n# val.price = (val.price - y.mean())/y.std()",
      "outputs": [
        {
          "name": "stdout",
          "text": "CPU times: user 1.79 s, sys: 1.57 ms, total: 1.79 s\nWall time: 1.84 s\n",
          "output_type": "stream"
        }
      ],
      "execution_count": null
    },
    {
      "cell_type": "code",
      "metadata": {
        "tags": [],
        "cell_id": "00009-1195bcf0-9cd7-4de0-8abc-42f5086dcc4c",
        "deepnote_to_be_reexecuted": false,
        "source_hash": "cc59abb2",
        "execution_millis": 1630,
        "execution_start": 1617960267182,
        "deepnote_cell_type": "code"
      },
      "source": "from sklearn.preprocessing import StandardScaler\nfrom sklearn.pipeline import make_pipeline\nfrom sklearn.linear_model import ElasticNet\n\nreg = make_pipeline(StandardScaler(),\n                    SGDRegressor(max_iter=2000, tol=1e-3))\nfeatures = features_str + features_address + ['price']\nreg.fit(train.drop(features, axis=1), train.price)",
      "execution_count": null,
      "outputs": [
        {
          "output_type": "execute_result",
          "execution_count": 32,
          "data": {
            "text/plain": "Pipeline(steps=[('standardscaler', StandardScaler()),\n                ('sgdregressor', SGDRegressor(max_iter=2000))])"
          },
          "metadata": {}
        }
      ]
    },
    {
      "cell_type": "code",
      "metadata": {
        "tags": [],
        "cell_id": "00010-90f6a93c-4601-4b71-b1a2-97b20e141c2e",
        "deepnote_to_be_reexecuted": false,
        "source_hash": "d0b4c9ec",
        "execution_millis": 9,
        "execution_start": 1617960268809,
        "deepnote_cell_type": "code"
      },
      "source": "def plot_true_pred(true, pred):\n    temp = pd.concat([pred, true], axis=1)\n    temp.columns = ['pred', 'true']\n    temp.plot.scatter(x='true', y='pred')",
      "execution_count": null,
      "outputs": []
    },
    {
      "cell_type": "code",
      "metadata": {
        "tags": [],
        "cell_id": "00011-cca1dace-47f2-49e8-bad2-509b24d6a19d",
        "deepnote_to_be_reexecuted": false,
        "source_hash": "4ecec34d",
        "execution_millis": 762,
        "execution_start": 1617960350595,
        "deepnote_cell_type": "code"
      },
      "source": "pd.Series(reg.predict(val.drop(features, axis=1))).plot(kind='hist', bins=100, xlim=(-100, 1.5e6))",
      "execution_count": null,
      "outputs": [
        {
          "output_type": "execute_result",
          "execution_count": 37,
          "data": {
            "text/plain": "<AxesSubplot:ylabel='Frequency'>"
          },
          "metadata": {}
        },
        {
          "data": {
            "text/plain": "<Figure size 432x288 with 1 Axes>",
            "image/png": "[encoded data removed]"
          },
          "metadata": {},
          "output_type": "display_data"
        }
      ]
    },
    {
      "cell_type": "code",
      "metadata": {
        "tags": [],
        "cell_id": "00010-93eae5ea-4136-4290-acea-417b493e6200",
        "deepnote_to_be_reexecuted": false,
        "source_hash": "3344cb74",
        "execution_millis": 472,
        "execution_start": 1617960268823,
        "deepnote_cell_type": "code"
      },
      "source": "print(mdape(val.price, reg.predict(val.drop(features, axis=1))))\nplot_true_pred(val[['price']].reset_index(drop=True),\n            pd.Series(reg.predict(val.drop(features, axis=1))))",
      "execution_count": null,
      "outputs": [
        {
          "name": "stdout",
          "text": "0.5255891077021914\n",
          "output_type": "stream"
        },
        {
          "data": {
            "text/plain": "<Figure size 432x288 with 1 Axes>",
            "image/png": "[encoded data removed]"
          },
          "metadata": {},
          "output_type": "display_data"
        }
      ]
    },
    {
      "cell_type": "markdown",
      "source": "## Keras",
      "metadata": {
        "tags": [],
        "cell_id": "00013-3f48e1af-1143-45a2-a2f8-47d1b7907b31",
        "deepnote_cell_type": "markdown"
      }
    },
    {
      "cell_type": "code",
      "metadata": {
        "tags": [],
        "cell_id": "00014-b459a0a0-7f5e-41e6-a6ef-72c169c085e4",
        "deepnote_to_be_reexecuted": false,
        "source_hash": "995a7728",
        "execution_millis": 8878,
        "execution_start": 1618107699291,
        "deepnote_cell_type": "code"
      },
      "source": "!pip install --upgrade tensorflow-probability",
      "outputs": [
        {
          "name": "stdout",
          "text": "Collecting tensorflow-probability\n  Downloading tensorflow_probability-0.12.1-py2.py3-none-any.whl (4.8 MB)\n\u001b[K     |████████████████████████████████| 4.8 MB 20.5 MB/s \n\u001b[?25hCollecting dm-tree\n  Downloading dm_tree-0.1.5-cp37-cp37m-manylinux1_x86_64.whl (294 kB)\n\u001b[K     |████████████████████████████████| 294 kB 73.9 MB/s \n\u001b[?25hRequirement already satisfied, skipping upgrade: decorator in /shared-libs/python3.7/py-core/lib/python3.7/site-packages (from tensorflow-probability) (4.4.2)\nCollecting cloudpickle>=1.3\n  Downloading cloudpickle-1.6.0-py3-none-any.whl (23 kB)\nRequirement already satisfied, skipping upgrade: six>=1.10.0 in /shared-libs/python3.7/py-core/lib/python3.7/site-packages (from tensorflow-probability) (1.15.0)\nRequirement already satisfied, skipping upgrade: gast>=0.3.2 in /shared-libs/python3.7/py/lib/python3.7/site-packages (from tensorflow-probability) (0.3.3)\nRequirement already satisfied, skipping upgrade: numpy>=1.13.3 in /shared-libs/python3.7/py/lib/python3.7/site-packages (from tensorflow-probability) (1.19.5)\nInstalling collected packages: dm-tree, cloudpickle, tensorflow-probability\nSuccessfully installed cloudpickle-1.6.0 dm-tree-0.1.5 tensorflow-probability-0.12.1\n\u001b[33mWARNING: You are using pip version 20.1.1; however, version 21.0.1 is available.\nYou should consider upgrading via the '/root/venv/bin/python -m pip install --upgrade pip' command.\u001b[0m\n",
          "output_type": "stream"
        }
      ],
      "execution_count": null
    },
    {
      "cell_type": "code",
      "metadata": {
        "tags": [],
        "cell_id": "00014-2ac4b2e1-908a-494f-ac04-a8635bf37b85",
        "deepnote_to_be_reexecuted": false,
        "source_hash": "cb24e1d0",
        "execution_millis": 4934,
        "execution_start": 1618107708175,
        "deepnote_cell_type": "code"
      },
      "source": "import tensorflow as tf\nimport tensorflow_probability as tfp\nfrom tensorflow import keras\nfrom tensorflow.keras import layers\n\nfrom sklearn.preprocessing import StandardScaler",
      "outputs": [],
      "execution_count": null
    },
    {
      "cell_type": "code",
      "metadata": {
        "tags": [],
        "cell_id": "00014-4d4bab3f-5657-4335-af13-af78412e03e7",
        "deepnote_to_be_reexecuted": false,
        "source_hash": "c9b6d3fb",
        "execution_millis": 2940,
        "execution_start": 1618107713121,
        "deepnote_cell_type": "code"
      },
      "source": "def preprocess_total(df, df_test):\n    df, df_test = df.copy(), df_test.copy()\n    features_cat, features_num = preprocess_main(df)\n    _ = preprocess_main(df_test)\n    df_test['price'] = np.nan\n\n    # nans\n    df[features_cat], df_test[features_cat] = categorical_to_numerical_features(df, df_test,\n                                                                           features_cat)\n    # train_size = df.shape[0]\n    # data = pd.concat([df, df_test], axis=0)[features_cat]\n    # data[features_cat] = data[features_cat].apply(replace_na_on_missing).astype('category')\n    # ohe = pd.get_dummies(data[features_cat], drop_first=True)\n    # print(ohe.shape)\n    # df = pd.concat([df, ohe.iloc[:train_size]], axis=1)\n    # df_test = pd.concat([df_test, ohe.iloc[train_size:]], axis=1)\n    # df.drop(features_cat,axis=1, inplace=True)\n    # df_test.drop(features_cat,axis=1, inplace=True)\n\n    df[features_num] = df[features_num].fillna(0)\n    # check nans exist only in unused features\n    if df.loc[:, df.isna().sum() != 0]\\\n                .select_dtypes(exclude=['object', 'string']).shape[1] != 0:\n                print('There are nans in data')\n\n\n    cv_folds = TimeSeriesSplit(n_splits=5)\n    cv_idx = list(cv_folds.split(df, df.price))[-1]\n    train = df.iloc[cv_idx[0]]\n    val = df.iloc[cv_idx[1]]\n\n    f_all = train.drop(['price'], axis=1).select_dtypes(exclude=['object', 'string']).columns\n    # display(train[f_all].dtypes)\n    ss = StandardScaler().fit(train[f_all])\n    train[f_all] = ss.transform(train[f_all])\n    val[f_all] = ss.transform(val[f_all])\n    df_test[f_all] = ss.transform(df_test[f_all])\n    \n    return train, val, df_test, features_cat\n\n\ntrain, val, test, features_cat = preprocess_total(df, df_test)\nfeatures = features_str + features_address #+ ['price']\ntrain.drop(features, axis=1, inplace=True)\nval.drop(features, axis=1, inplace=True)\n",
      "outputs": [],
      "execution_count": null
    },
    {
      "cell_type": "code",
      "source": "train.to_csv('train.csv')\nval.to_csv(('val.csv'))",
      "metadata": {
        "tags": [],
        "cell_id": "00016-1071ee2c-86ec-40ab-82dc-0093d68d249f",
        "deepnote_to_be_reexecuted": false,
        "source_hash": "502c75a",
        "execution_millis": 7174,
        "execution_start": 1618107802096,
        "deepnote_cell_type": "code"
      },
      "outputs": [],
      "execution_count": null
    },
    {
      "cell_type": "code",
      "metadata": {
        "tags": [],
        "cell_id": "00015-fec54523-1a7b-4f08-b458-ed3fed8b1b53",
        "deepnote_to_be_reexecuted": false,
        "source_hash": "86a391e0",
        "execution_millis": 38,
        "execution_start": 1618110738356,
        "deepnote_cell_type": "code"
      },
      "source": "input_size = train.shape[1] - 1 # price \nprint(input_size)\n\nmodel = keras.Sequential()\nmodel.add(keras.Input(shape=(input_size,)))\nmodel.add(layers.Dense(64, activation=\"relu\", name=\"layer1\"))\nmodel.add(layers.Dense(32, activation=\"relu\", name=\"layer2\"))\nmodel.add(layers.Dense(1, name=\"output\"))\nmodel.summary()",
      "outputs": [
        {
          "name": "stdout",
          "text": "34\nModel: \"sequential_3\"\n_________________________________________________________________\nLayer (type)                 Output Shape              Param #   \n=================================================================\nlayer1 (Dense)               (None, 64)                2240      \n_________________________________________________________________\nlayer2 (Dense)               (None, 32)                2080      \n_________________________________________________________________\noutput (Dense)               (None, 1)                 33        \n=================================================================\nTotal params: 4,353\nTrainable params: 4,353\nNon-trainable params: 0\n_________________________________________________________________\n",
          "output_type": "stream"
        }
      ],
      "execution_count": null
    },
    {
      "cell_type": "code",
      "metadata": {
        "tags": [],
        "cell_id": "00017-1b57a095-4fa4-4f0e-b489-04b6bcbb88ac",
        "deepnote_to_be_reexecuted": false,
        "source_hash": "4f9e2c38",
        "execution_millis": 111662,
        "execution_start": 1618110739839,
        "deepnote_cell_type": "code"
      },
      "source": "def pick_median(arg_tensor):\n    the_upper_tensor = tfp.stats.percentile(arg_tensor, 50, interpolation='higher')\n    the_lower_tensor = tfp.stats.percentile(arg_tensor, 50, interpolation='lower')\n\n    final_tensor = (the_upper_tensor + the_lower_tensor) / 2\n\n    return final_tensor\n\ndef tf_mdape(true, pred):\n     return pick_median(tf.abs((true - pred)/(true + EPSILON)))\n\n\ndef mdape(actual: np.ndarray, predicted: np.ndarray):\n    \"\"\"\n    Median Absolute Percentage Error\n    Note: result is NOT multiplied by 100\n    \"\"\"\n    return np.median(np.abs(_percentage_error(actual, predicted)))\n\nmodel.compile(\n    optimizer=keras.optimizers.Adam(0.01), #RMSprop(),  \n    loss=keras.losses.MeanAbsoluteError(),\n    metrics=[tf_mdape],\n)\n\nhistory = model.fit(train.drop('price', axis=1),\n                    train.price,\n                    batch_size=64,\n                    epochs=30,\n                    validation_data=(val.drop('price', axis=1), val.price),\n                    )\n\n# history.history",
      "outputs": [
        {
          "name": "stdout",
          "text": "Epoch 1/30\n1303/1303 [==============================] - 5s 3ms/step - loss: 235093.7025 - tf_mdape: 0.5896 - val_loss: 179653.2812 - val_tf_mdape: 0.3604\nEpoch 2/30\n1303/1303 [==============================] - 4s 3ms/step - loss: 178249.9480 - tf_mdape: 0.3504 - val_loss: 178750.4688 - val_tf_mdape: 0.3574\nEpoch 3/30\n1303/1303 [==============================] - 4s 3ms/step - loss: 168310.6473 - tf_mdape: 0.3529 - val_loss: 177887.8750 - val_tf_mdape: 0.3512\nEpoch 4/30\n1303/1303 [==============================] - 3s 3ms/step - loss: 184865.0974 - tf_mdape: 0.3455 - val_loss: 176640.9062 - val_tf_mdape: 0.3416\nEpoch 5/30\n1303/1303 [==============================] - 4s 3ms/step - loss: 177348.2914 - tf_mdape: 0.3390 - val_loss: 175140.3750 - val_tf_mdape: 0.3359\nEpoch 6/30\n1303/1303 [==============================] - 4s 3ms/step - loss: 174606.5207 - tf_mdape: 0.3345 - val_loss: 174269.7500 - val_tf_mdape: 0.3326\nEpoch 7/30\n1303/1303 [==============================] - 4s 3ms/step - loss: 170608.3198 - tf_mdape: 0.3321 - val_loss: 173724.5156 - val_tf_mdape: 0.3324\nEpoch 8/30\n1303/1303 [==============================] - 4s 3ms/step - loss: 195373.3602 - tf_mdape: 0.3255 - val_loss: 173261.7500 - val_tf_mdape: 0.3278\nEpoch 9/30\n1303/1303 [==============================] - 4s 3ms/step - loss: 163107.4666 - tf_mdape: 0.3212 - val_loss: 172338.9375 - val_tf_mdape: 0.3256\nEpoch 10/30\n1303/1303 [==============================] - 4s 3ms/step - loss: 173832.3547 - tf_mdape: 0.3223 - val_loss: 171837.5781 - val_tf_mdape: 0.3244\nEpoch 11/30\n1303/1303 [==============================] - 4s 3ms/step - loss: 166990.0729 - tf_mdape: 0.3216 - val_loss: 171582.4375 - val_tf_mdape: 0.3261\nEpoch 12/30\n1303/1303 [==============================] - 4s 3ms/step - loss: 168496.0302 - tf_mdape: 0.3194 - val_loss: 171253.0781 - val_tf_mdape: 0.3211\nEpoch 13/30\n1303/1303 [==============================] - 4s 3ms/step - loss: 185281.6046 - tf_mdape: 0.3178 - val_loss: 170880.1875 - val_tf_mdape: 0.3211\nEpoch 14/30\n1303/1303 [==============================] - 4s 3ms/step - loss: 201729.9179 - tf_mdape: 0.3160 - val_loss: 170968.2344 - val_tf_mdape: 0.3229\nEpoch 15/30\n1303/1303 [==============================] - 4s 3ms/step - loss: 167549.0233 - tf_mdape: 0.3161 - val_loss: 170619.8750 - val_tf_mdape: 0.3221\nEpoch 16/30\n1303/1303 [==============================] - 4s 3ms/step - loss: 176089.5860 - tf_mdape: 0.3132 - val_loss: 170349.6562 - val_tf_mdape: 0.3195\nEpoch 17/30\n1303/1303 [==============================] - 4s 3ms/step - loss: 162516.9121 - tf_mdape: 0.3159 - val_loss: 170206.9688 - val_tf_mdape: 0.3202\nEpoch 18/30\n1303/1303 [==============================] - 4s 3ms/step - loss: 173558.3213 - tf_mdape: 0.3101 - val_loss: 169821.0781 - val_tf_mdape: 0.3189\nEpoch 19/30\n1303/1303 [==============================] - 4s 3ms/step - loss: 177796.5957 - tf_mdape: 0.3119 - val_loss: 169663.7500 - val_tf_mdape: 0.3148\nEpoch 20/30\n1303/1303 [==============================] - 4s 3ms/step - loss: 177846.9337 - tf_mdape: 0.3117 - val_loss: 169361.3281 - val_tf_mdape: 0.3141\nEpoch 21/30\n1303/1303 [==============================] - 4s 3ms/step - loss: 193999.7457 - tf_mdape: 0.3069 - val_loss: 169253.3438 - val_tf_mdape: 0.3138\nEpoch 22/30\n1303/1303 [==============================] - 4s 3ms/step - loss: 178583.2210 - tf_mdape: 0.3069 - val_loss: 169044.7500 - val_tf_mdape: 0.3095\nEpoch 23/30\n1303/1303 [==============================] - 4s 3ms/step - loss: 183017.4878 - tf_mdape: 0.3070 - val_loss: 169020.8281 - val_tf_mdape: 0.3125\nEpoch 24/30\n1303/1303 [==============================] - 4s 3ms/step - loss: 174682.8255 - tf_mdape: 0.3054 - val_loss: 168750.7500 - val_tf_mdape: 0.3094\nEpoch 25/30\n1303/1303 [==============================] - 4s 3ms/step - loss: 163243.7930 - tf_mdape: 0.3048 - val_loss: 168629.0781 - val_tf_mdape: 0.3080\nEpoch 26/30\n1303/1303 [==============================] - 4s 3ms/step - loss: 176963.3426 - tf_mdape: 0.2996 - val_loss: 168494.5781 - val_tf_mdape: 0.3094\nEpoch 27/30\n1303/1303 [==============================] - 4s 3ms/step - loss: 175637.1038 - tf_mdape: 0.3012 - val_loss: 168096.9531 - val_tf_mdape: 0.3076\nEpoch 28/30\n1303/1303 [==============================] - 4s 3ms/step - loss: 180438.4425 - tf_mdape: 0.2987 - val_loss: 166961.9062 - val_tf_mdape: 0.3020\nEpoch 29/30\n1303/1303 [==============================] - 4s 3ms/step - loss: 169845.1271 - tf_mdape: 0.2963 - val_loss: 165035.8438 - val_tf_mdape: 0.2931\nEpoch 30/30\n1303/1303 [==============================] - 4s 3ms/step - loss: 164973.3269 - tf_mdape: 0.2903 - val_loss: 162887.8125 - val_tf_mdape: 0.2848\n",
          "output_type": "stream"
        }
      ],
      "execution_count": null
    },
    {
      "cell_type": "code",
      "source": "mdape(val.price.values, preds)",
      "metadata": {
        "tags": [],
        "cell_id": "00019-27f3fb4a-76e9-400c-aa07-0db3f11f83e6",
        "deepnote_to_be_reexecuted": false,
        "source_hash": "c0c334ec",
        "execution_start": 1618112434389,
        "execution_millis": 18,
        "deepnote_cell_type": "code"
      },
      "outputs": [
        {
          "output_type": "execute_result",
          "execution_count": 30,
          "data": {
            "text/plain": "0.259511112795398"
          },
          "metadata": {}
        }
      ],
      "execution_count": null
    },
    {
      "cell_type": "code",
      "metadata": {
        "tags": [],
        "cell_id": "00019-a449be1e-1bee-49b3-a08a-601b468eb9a3",
        "deepnote_to_be_reexecuted": false,
        "source_hash": "d71b08ff",
        "execution_millis": 536,
        "execution_start": 1617974958257,
        "deepnote_cell_type": "code"
      },
      "source": "preds = model.predict(val.drop('price', axis=1)).reshape(-1,)\ndisplay(preds.shape)\ndata = pd.concat([val.price.reset_index(drop=True),\n                    pd.Series(preds)], axis=1)\ndata.columns = ['true', 'pred']\ndata.plot.scatter(x='true', y='pred')",
      "execution_count": null,
      "outputs": [
        {
          "data": {
            "text/plain": "(16666,)"
          },
          "metadata": {},
          "output_type": "display_data"
        },
        {
          "output_type": "execute_result",
          "execution_count": 63,
          "data": {
            "text/plain": "<AxesSubplot:xlabel='true', ylabel='pred'>"
          },
          "metadata": {}
        },
        {
          "data": {
            "text/plain": "<Figure size 432x288 with 1 Axes>",
            "image/png": "[encoded data removed]"
          },
          "metadata": {},
          "output_type": "display_data"
        }
      ]
    },
    {
      "cell_type": "markdown",
      "source": "### Preprocee text features to categorical",
      "metadata": {
        "tags": [],
        "cell_id": "00018-e8553cec-c7d7-46e6-b590-91870f1661c2",
        "deepnote_cell_type": "markdown"
      }
    },
    {
      "cell_type": "code",
      "metadata": {
        "tags": [],
        "deepnote_to_be_reexecuted": true,
        "source_hash": "ed512f36",
        "execution_millis": 1,
        "cell_id": "00019-ca584403-9189-46dc-a9d0-f3dc7e093310",
        "deepnote_cell_type": "code"
      },
      "source": "# def find_by_template_and_replace(temp, df, f, name=''):\n#     print(f'''rel. % of samples with cyfartalog: \\\n# {df[f].dropna().str.extract(tmp).notna().sum()/df.shape[0]*100}''')\n#     df[name] = df[f].str.extract(tmp).apply(lambda x: np.where(x.isna(), np.nan,x) )\n#     display(df[name].dropna().unique())\n#     df[name] = df[name].astype('float')\n#     df[f] = df[f].str.replace(tmp, '')",
      "execution_count": null,
      "outputs": []
    },
    {
      "cell_type": "code",
      "metadata": {
        "tags": [],
        "deepnote_to_be_reexecuted": true,
        "source_hash": "ad7c8aa6",
        "execution_millis": 2,
        "cell_id": "00020-acea0f83-aa7d-4068-98e5-bf9a81171072",
        "deepnote_cell_type": "code"
      },
      "source": "# f = 'epc_walls_description'\n\n# tmp = '\\|Trawsyriannedd thermol cyfartalog =*\\s*(\\d.*\\d*) W/m.*K'\n# find_by_template_and_replace(tmp, df, f, 'wall_cyfartalog')\n# tmp = 'transmittance =*\\s*(\\d.*\\d*) W/m.*K'\n# find_by_template_and_replace(tmp, df, f, 'wall_transmittance')",
      "execution_count": null,
      "outputs": []
    },
    {
      "cell_type": "code",
      "metadata": {
        "tags": [],
        "deepnote_to_be_reexecuted": true,
        "source_hash": "d2521169",
        "execution_millis": 1,
        "cell_id": "00021-3e6a7bf0-315b-49c4-bfcb-8cfe942ccda4",
        "deepnote_cell_type": "code"
      },
      "source": "# temp = df[f].str.replace('+', ',').str.replace('.', ',').str.replace(', ',',')\\\n#             .str.split(',', expand=True)\n# print(f'% of nan is each col\\n{temp.notna().sum(axis=0)/temp.shape[0]*100}')\n# temp = temp.iloc[:,:7].apply(replace_na_on_missing).astype('category')\n# temp.columns = f + temp.columns.astype('string')\n# df = pd.concat((df, temp), axis=1)\n# features_cat.extend(temp.columns)\n# gc.collect();",
      "execution_count": null,
      "outputs": []
    },
    {
      "cell_type": "code",
      "metadata": {
        "tags": [],
        "deepnote_to_be_reexecuted": true,
        "source_hash": "6974b26c",
        "execution_millis": 6,
        "cell_id": "00022-e2a5bbec-a037-4861-b2c7-83a3a834acdc",
        "deepnote_cell_type": "code"
      },
      "source": "# f = 'epc_roof_description'\n# tmp = '(\\d+)\\+*\\s*mm loft '\n# find_by_template_and_replace(temp, df, f, 'roof_loft')\n# tmp = '\\|Trawsyriannedd thermol cyfartalog \\d.\\d\\d'\n# df[f] = df[f].str.replace(tmp, '')\n# tmp = 'transmittance =*\\s*(\\d\\.*\\d*) W/m.*K'\n# find_by_template_and_replace(temp, df, f, 'roof_transmittance')\n",
      "execution_count": null,
      "outputs": []
    },
    {
      "cell_type": "code",
      "metadata": {
        "tags": [],
        "deepnote_to_be_reexecuted": true,
        "source_hash": "87808052",
        "execution_millis": 1,
        "output_cleared": false,
        "cell_id": "00023-2946c26a-3544-4545-b211-617a7ccf54e8",
        "deepnote_cell_type": "code"
      },
      "source": "# temp = df[f].str.replace('+', ',').str.replace('.', ',').str.replace(', ',',')\\\n#             .str.split(',', expand=True)\n# print(f'% of nan is each col\\n{temp.notna().sum(axis=0)/temp.shape[0]*100}')\n# temp = temp.iloc[:,:5].apply(replace_na_on_missing).astype('category')\n# temp.columns = f + temp.columns.astype('string')\n# df = pd.concat((df, temp), axis=1)\n# features_cat.extend(temp.columns)\n# gc.collect();",
      "execution_count": null,
      "outputs": []
    },
    {
      "cell_type": "code",
      "metadata": {
        "tags": [],
        "deepnote_to_be_reexecuted": true,
        "source_hash": "571a7559",
        "execution_millis": 4,
        "cell_id": "00024-c6bc51e9-d978-4632-bb9b-156b986a1748",
        "deepnote_cell_type": "code"
      },
      "source": "# f = 'epc_windows_description'\n# df[f] = df[[f]].apply(replace_na_on_missing).values\n# features_cat.append(f)\n# # features_str.remove(f)",
      "execution_count": null,
      "outputs": []
    },
    {
      "cell_type": "code",
      "metadata": {
        "tags": [],
        "deepnote_to_be_reexecuted": true,
        "source_hash": "b623e53d",
        "cell_id": "00031-6789cf14-1795-4a8c-acba-0f4ccf47b844",
        "deepnote_cell_type": "code"
      },
      "source": "",
      "execution_count": null,
      "outputs": []
    },
    {
      "cell_type": "markdown",
      "source": "<a style='text-decoration:none;line-height:16px;display:flex;color:#5B5B62;padding:10px;justify-content:end;' href='https://deepnote.com?utm_source=created-in-deepnote-cell&projectId=93dfd834-f8d5-41c6-9de5-c4f79b8a1815' target=\"_blank\">\n<img alt='Created in deepnote.com' style='display:inline;max-height:16px;margin:0px;margin-right:7.5px;' src='data:image/svg+xml;base64,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' > </img>\nCreated in <span style='font-weight:600;margin-left:4px;'>Deepnote</span></a>",
      "metadata": {
        "tags": [],
        "created_in_deepnote_cell": true,
        "deepnote_cell_type": "markdown"
      }
    }
  ],
  "nbformat": 4,
  "nbformat_minor": 2,
  "metadata": {
    "orig_nbformat": 2,
    "deepnote_notebook_id": "70925ff7-8af3-4fcd-b596-a168fa670eff",
    "deepnote": {},
    "deepnote_execution_queue": []
  }
}