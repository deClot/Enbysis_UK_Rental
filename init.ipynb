{
  "cells": [
    {
      "cell_type": "markdown",
      "source": "## Initialization Notebook\nThis is your initialization notebook.\n\n**What's this for?**\n\nYou can put custom code you want us to run every time we setup your environment in here. \n\n**Awesome! Anything I should not put in here?**\n\nPlease don't install `jupyter` or `jedi` packages, they would break your Deepnote environment. Also, no need to put `!pip install`s here, we already save those automatically!\n\n**I want to learn more!**\n\nGreat! Just [head over to our docs](https://docs.deepnote.com/environment/custom-initialization).",
      "metadata": {
        "tags": [],
        "cell_id": "00000-986b1383-8b65-45f0-bb2f-22b02b537c71",
        "deepnote_cell_type": "markdown"
      }
    },
    {
      "cell_type": "code",
      "metadata": {
        "tags": [],
        "cell_id": "00001-c4268627-33a1-4af2-aca5-eed10fb62910",
        "deepnote_to_be_reexecuted": false,
        "source_hash": "60b37886",
        "execution_millis": 19137,
        "execution_start": 1618198854311,
        "deepnote_cell_type": "code"
      },
      "source": "%%bash\n# If your project has a 'requirements.txt' file, we'll install it here apart from blacklisted packages that interfere with Deepnote (see above).\nif test -f requirements.txt\n  then\n    sed -i '/jedi/d;/jupyter/d;' ./requirements.txt\n    pip install -r ./requirements.txt\n  else echo \"There's no requirements.txt, so nothing to install. This is the case with most projects.\"\nfi",
      "execution_count": 1,
      "outputs": [
        {
          "name": "stdout",
          "text": "Collecting catboost\n  Downloading catboost-0.25.1-cp37-none-manylinux1_x86_64.whl (67.3 MB)\nCollecting neptune-client==0.9.0\n  Downloading neptune-client-0.9.0.tar.gz (206 kB)\nCollecting lightgbm\n  Downloading lightgbm-3.2.0-py3-none-manylinux1_x86_64.whl (2.0 MB)\nRequirement already satisfied: scipy in /shared-libs/python3.7/py/lib/python3.7/site-packages (from catboost->-r ./requirements.txt (line 1)) (1.6.1)\nRequirement already satisfied: matplotlib in /shared-libs/python3.7/py/lib/python3.7/site-packages (from catboost->-r ./requirements.txt (line 1)) (3.3.4)\nRequirement already satisfied: six in /shared-libs/python3.7/py-core/lib/python3.7/site-packages (from catboost->-r ./requirements.txt (line 1)) (1.15.0)\nCollecting graphviz\n  Downloading graphviz-0.16-py2.py3-none-any.whl (19 kB)\nRequirement already satisfied: numpy>=1.16.0 in /shared-libs/python3.7/py/lib/python3.7/site-packages (from catboost->-r ./requirements.txt (line 1)) (1.19.5)\nRequirement already satisfied: pandas>=0.24.0 in /shared-libs/python3.7/py/lib/python3.7/site-packages (from catboost->-r ./requirements.txt (line 1)) (1.2.3)\nRequirement already satisfied: plotly in /shared-libs/python3.7/py/lib/python3.7/site-packages (from catboost->-r ./requirements.txt (line 1)) (4.14.3)\nCollecting bravado\n  Downloading bravado-11.0.3-py2.py3-none-any.whl (38 kB)\nRequirement already satisfied: click>=7.0 in /shared-libs/python3.7/py/lib/python3.7/site-packages (from neptune-client==0.9.0->-r ./requirements.txt (line 2)) (7.1.2)\nRequirement already satisfied: future>=0.17.1 in /shared-libs/python3.7/py/lib/python3.7/site-packages (from neptune-client==0.9.0->-r ./requirements.txt (line 2)) (0.18.2)\nRequirement already satisfied: oauthlib>=2.1.0 in /shared-libs/python3.7/py/lib/python3.7/site-packages (from neptune-client==0.9.0->-r ./requirements.txt (line 2)) (3.1.0)\nRequirement already satisfied: Pillow>=1.1.6 in /shared-libs/python3.7/py/lib/python3.7/site-packages (from neptune-client==0.9.0->-r ./requirements.txt (line 2)) (8.1.2)\nRequirement already satisfied: PyJWT in /shared-libs/python3.7/py/lib/python3.7/site-packages (from neptune-client==0.9.0->-r ./requirements.txt (line 2)) (2.0.1)\nRequirement already satisfied: requests>=2.20.0 in /shared-libs/python3.7/py/lib/python3.7/site-packages (from neptune-client==0.9.0->-r ./requirements.txt (line 2)) (2.25.1)\nRequirement already satisfied: requests-oauthlib>=1.0.0 in /shared-libs/python3.7/py/lib/python3.7/site-packages (from neptune-client==0.9.0->-r ./requirements.txt (line 2)) (1.3.0)\nCollecting websocket-client>=0.35.0\n  Downloading websocket_client-0.58.0-py2.py3-none-any.whl (61 kB)\nCollecting GitPython>=2.0.8\n  Downloading GitPython-3.1.14-py3-none-any.whl (159 kB)\nRequirement already satisfied: packaging in /shared-libs/python3.7/py-core/lib/python3.7/site-packages (from neptune-client==0.9.0->-r ./requirements.txt (line 2)) (20.9)\nRequirement already satisfied: urllib3 in /shared-libs/python3.7/py/lib/python3.7/site-packages (from neptune-client==0.9.0->-r ./requirements.txt (line 2)) (1.26.4)\nRequirement already satisfied: scikit-learn!=0.22.0 in /shared-libs/python3.7/py/lib/python3.7/site-packages (from lightgbm->-r ./requirements.txt (line 3)) (0.24.1)\nRequirement already satisfied: wheel in /usr/local/lib/python3.7/site-packages (from lightgbm->-r ./requirements.txt (line 3)) (0.36.2)\nRequirement already satisfied: pyparsing!=2.0.4,!=2.1.2,!=2.1.6,>=2.0.3 in /shared-libs/python3.7/py-core/lib/python3.7/site-packages (from matplotlib->catboost->-r ./requirements.txt (line 1)) (2.4.7)\nRequirement already satisfied: python-dateutil>=2.1 in /shared-libs/python3.7/py-core/lib/python3.7/site-packages (from matplotlib->catboost->-r ./requirements.txt (line 1)) (2.8.1)\nRequirement already satisfied: cycler>=0.10 in /shared-libs/python3.7/py/lib/python3.7/site-packages (from matplotlib->catboost->-r ./requirements.txt (line 1)) (0.10.0)\nRequirement already satisfied: kiwisolver>=1.0.1 in /shared-libs/python3.7/py/lib/python3.7/site-packages (from matplotlib->catboost->-r ./requirements.txt (line 1)) (1.3.1)\nRequirement already satisfied: pytz>=2017.3 in /shared-libs/python3.7/py/lib/python3.7/site-packages (from pandas>=0.24.0->catboost->-r ./requirements.txt (line 1)) (2021.1)\nRequirement already satisfied: retrying>=1.3.3 in /shared-libs/python3.7/py/lib/python3.7/site-packages (from plotly->catboost->-r ./requirements.txt (line 1)) (1.3.3)\nRequirement already satisfied: typing-extensions in /shared-libs/python3.7/py-core/lib/python3.7/site-packages (from bravado->neptune-client==0.9.0->-r ./requirements.txt (line 2)) (3.7.4.3)\nCollecting monotonic\n  Downloading monotonic-1.6-py2.py3-none-any.whl (8.2 kB)\nCollecting msgpack\n  Downloading msgpack-1.0.2-cp37-cp37m-manylinux1_x86_64.whl (273 kB)\nCollecting bravado-core>=5.16.1\n  Downloading bravado_core-5.17.0-py2.py3-none-any.whl (67 kB)\nRequirement already satisfied: pyyaml in /shared-libs/python3.7/py/lib/python3.7/site-packages (from bravado->neptune-client==0.9.0->-r ./requirements.txt (line 2)) (5.4.1)\nCollecting simplejson\n  Downloading simplejson-3.17.2-cp37-cp37m-manylinux2010_x86_64.whl (128 kB)\nRequirement already satisfied: certifi>=2017.4.17 in /shared-libs/python3.7/py/lib/python3.7/site-packages (from requests>=2.20.0->neptune-client==0.9.0->-r ./requirements.txt (line 2)) (2020.12.5)\nRequirement already satisfied: idna<3,>=2.5 in /shared-libs/python3.7/py/lib/python3.7/site-packages (from requests>=2.20.0->neptune-client==0.9.0->-r ./requirements.txt (line 2)) (2.10)\nRequirement already satisfied: chardet<5,>=3.0.2 in /shared-libs/python3.7/py/lib/python3.7/site-packages (from requests>=2.20.0->neptune-client==0.9.0->-r ./requirements.txt (line 2)) (3.0.4)\nCollecting gitdb<5,>=4.0.1\n  Downloading gitdb-4.0.7-py3-none-any.whl (63 kB)\nRequirement already satisfied: threadpoolctl>=2.0.0 in /shared-libs/python3.7/py/lib/python3.7/site-packages (from scikit-learn!=0.22.0->lightgbm->-r ./requirements.txt (line 3)) (2.1.0)\nRequirement already satisfied: joblib>=0.11 in /shared-libs/python3.7/py/lib/python3.7/site-packages (from scikit-learn!=0.22.0->lightgbm->-r ./requirements.txt (line 3)) (1.0.1)\nCollecting swagger-spec-validator>=2.0.1\n  Downloading swagger_spec_validator-2.7.3-py2.py3-none-any.whl (27 kB)\nRequirement already satisfied: jsonschema[format]>=2.5.1 in /shared-libs/python3.7/py-core/lib/python3.7/site-packages (from bravado-core>=5.16.1->bravado->neptune-client==0.9.0->-r ./requirements.txt (line 2)) (3.2.0)\nCollecting jsonref\n  Downloading jsonref-0.2-py3-none-any.whl (9.3 kB)\nCollecting smmap<5,>=3.0.1\n  Downloading smmap-4.0.0-py2.py3-none-any.whl (24 kB)\nRequirement already satisfied: setuptools in /root/venv/lib/python3.7/site-packages (from jsonschema[format]>=2.5.1->bravado-core>=5.16.1->bravado->neptune-client==0.9.0->-r ./requirements.txt (line 2)) (47.1.0)\nRequirement already satisfied: attrs>=17.4.0 in /shared-libs/python3.7/py-core/lib/python3.7/site-packages (from jsonschema[format]>=2.5.1->bravado-core>=5.16.1->bravado->neptune-client==0.9.0->-r ./requirements.txt (line 2)) (20.3.0)\nRequirement already satisfied: importlib-metadata; python_version < \"3.8\" in /shared-libs/python3.7/py-core/lib/python3.7/site-packages (from jsonschema[format]>=2.5.1->bravado-core>=5.16.1->bravado->neptune-client==0.9.0->-r ./requirements.txt (line 2)) (3.7.3)\nRequirement already satisfied: pyrsistent>=0.14.0 in /shared-libs/python3.7/py-core/lib/python3.7/site-packages (from jsonschema[format]>=2.5.1->bravado-core>=5.16.1->bravado->neptune-client==0.9.0->-r ./requirements.txt (line 2)) (0.17.3)\nCollecting strict-rfc3339; extra == \"format\"\n  Downloading strict-rfc3339-0.7.tar.gz (17 kB)\nCollecting jsonpointer>1.13; extra == \"format\"\n  Downloading jsonpointer-2.1-py2.py3-none-any.whl (7.4 kB)\nCollecting rfc3987; extra == \"format\"\n  Downloading rfc3987-1.3.8-py2.py3-none-any.whl (13 kB)\nCollecting webcolors; extra == \"format\"\n  Downloading webcolors-1.11.1-py3-none-any.whl (9.9 kB)\nRequirement already satisfied: zipp>=0.5 in /shared-libs/python3.7/py-core/lib/python3.7/site-packages (from importlib-metadata; python_version < \"3.8\"->jsonschema[format]>=2.5.1->bravado-core>=5.16.1->bravado->neptune-client==0.9.0->-r ./requirements.txt (line 2)) (3.4.1)\nBuilding wheels for collected packages: neptune-client, strict-rfc3339\n  Building wheel for neptune-client (setup.py): started\n  Building wheel for neptune-client (setup.py): finished with status 'done'\n  Created wheel for neptune-client: filename=neptune_client-0.9.0-py2.py3-none-any.whl size=366639 sha256=aadbb0cac25082226447830cbf6622bff360e334c04be6a686c54106405f40ca\n  Stored in directory: /root/.cache/pip/wheels/a5/7e/b4/bb0d1fbab2e3f30d36ff7a1d8d21d7e53a1e0cb78d3ee005e5\n  Building wheel for strict-rfc3339 (setup.py): started\n  Building wheel for strict-rfc3339 (setup.py): finished with status 'done'\n  Created wheel for strict-rfc3339: filename=strict_rfc3339-0.7-py3-none-any.whl size=18119 sha256=a622b0f657a79601b3e376440be21eeafb457e515d67ec11ee3deab7ca1f28e3\n  Stored in directory: /root/.cache/pip/wheels/f3/1d/9f/2a74caecb81b8beb9a4fbe1754203d4b7cf42ef5d39e0d2311\nSuccessfully built neptune-client strict-rfc3339\nInstalling collected packages: graphviz, catboost, monotonic, msgpack, swagger-spec-validator, jsonref, simplejson, bravado-core, bravado, websocket-client, smmap, gitdb, GitPython, neptune-client, lightgbm, strict-rfc3339, jsonpointer, rfc3987, webcolors\nSuccessfully installed GitPython-3.1.14 bravado-11.0.3 bravado-core-5.17.0 catboost-0.25.1 gitdb-4.0.7 graphviz-0.16 jsonpointer-2.1 jsonref-0.2 lightgbm-3.2.0 monotonic-1.6 msgpack-1.0.2 neptune-client-0.9.0 rfc3987-1.3.8 simplejson-3.17.2 smmap-4.0.0 strict-rfc3339-0.7 swagger-spec-validator-2.7.3 webcolors-1.11.1 websocket-client-0.58.0\nWARNING: You are using pip version 20.1.1; however, version 21.0.1 is available.\nYou should consider upgrading via the '/root/venv/bin/python -m pip install --upgrade pip' command.\n",
          "output_type": "stream"
        }
      ]
    },
    {
      "cell_type": "code",
      "metadata": {
        "tags": [],
        "cell_id": "00002-4ea763b0-69a2-4327-9ded-c9f32300455f",
        "deepnote_to_be_reexecuted": false,
        "source_hash": "b623e53d",
        "execution_millis": 4,
        "execution_start": 1618198873446,
        "deepnote_cell_type": "code"
      },
      "source": "",
      "execution_count": 1,
      "outputs": []
    },
    {
      "cell_type": "code",
      "metadata": {
        "tags": [],
        "cell_id": "00003-f4fed6b7-8311-4553-97a3-74078f3dc411",
        "deepnote_to_be_reexecuted": false,
        "source_hash": "b623e53d",
        "execution_millis": 4,
        "execution_start": 1618198873452,
        "deepnote_cell_type": "code"
      },
      "source": "",
      "execution_count": 1,
      "outputs": []
    },
    {
      "cell_type": "markdown",
      "source": "<a style='text-decoration:none;line-height:16px;display:flex;color:#5B5B62;padding:10px;justify-content:end;' href='https://deepnote.com?utm_source=created-in-deepnote-cell&projectId=e0716c79-cd49-421b-b62e-acc802240d39' target=\"_blank\">\n<img alt='Created in deepnote.com' style='display:inline;max-height:16px;margin:0px;margin-right:7.5px;' src='data:image/svg+xml;base64,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' > </img>\nCreated in <span style='font-weight:600;margin-left:4px;'>Deepnote</span></a>",
      "metadata": {
        "tags": [],
        "created_in_deepnote_cell": true,
        "deepnote_cell_type": "markdown"
      }
    }
  ],
  "nbformat": 4,
  "nbformat_minor": 2,
  "metadata": {
    "orig_nbformat": 2,
    "deepnote_notebook_id": "49f96b18-4027-466a-8ecd-e746d4c19d2c",
    "deepnote": {},
    "deepnote_execution_queue": []
  }
}